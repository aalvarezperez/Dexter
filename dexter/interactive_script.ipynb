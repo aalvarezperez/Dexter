{
 "cells": [
  {
   "cell_type": "code",
   "execution_count": 2,
   "metadata": {},
   "outputs": [],
   "source": [
    "import os\n",
    "os.chdir('/Users/aalvarezperez/Documents/eBay/Horizon/projects/experiment_class/')"
   ]
  },
  {
   "cell_type": "code",
   "execution_count": 14,
   "metadata": {},
   "outputs": [],
   "source": [
    "import dexter.Experiment as dex\n",
    "import numpy as np\n",
    "import pandas as pd\n",
    "from importlib import reload"
   ]
  },
  {
   "cell_type": "code",
   "execution_count": 15,
   "metadata": {},
   "outputs": [
    {
     "data": {
      "text/plain": [
       "<module 'dexter.Experiment' from '/Users/aalvarezperez/Documents/eBay/Horizon/projects/experiment_class/dexter/Experiment.py'>"
      ]
     },
     "execution_count": 15,
     "metadata": {},
     "output_type": "execute_result"
    }
   ],
   "source": [
    "reload(dex)"
   ]
  },
  {
   "cell_type": "markdown",
   "metadata": {
    "tags": []
   },
   "source": [
    "### Initiate experiment"
   ]
  },
  {
   "cell_type": "code",
   "execution_count": 16,
   "metadata": {},
   "outputs": [],
   "source": [
    "df = pd.read_csv('dummy_df.csv')\n",
    "\n",
    "# exp_df = dex.ExperimentDataFrame(\n",
    "#     data=df,\n",
    "#     success_metric='leads',\n",
    "#     health_metrics='revenue',\n",
    "#     learning_metrics='vips',\n",
    "#     experiment_unit='userid',\n",
    "#     treatment='treatment'\n",
    "# )"
   ]
  },
  {
   "cell_type": "code",
   "execution_count": 29,
   "metadata": {},
   "outputs": [],
   "source": [
    "df['treatment2'] = np.random.choice(['a', 'b', 'c', 'd'], size=df.shape[0])"
   ]
  },
  {
   "cell_type": "code",
   "execution_count": 32,
   "metadata": {},
   "outputs": [
    {
     "data": {
      "text/plain": [
       "a    2497\n",
       "b    2474\n",
       "c    2523\n",
       "d    2506\n",
       "Name: treatment2, dtype: int64"
      ]
     },
     "execution_count": 32,
     "metadata": {},
     "output_type": "execute_result"
    }
   ],
   "source": [
    "df['treatment2'].value_counts().sort_index()"
   ]
  },
  {
   "cell_type": "code",
   "execution_count": 10,
   "metadata": {},
   "outputs": [
    {
     "ename": "TypeError",
     "evalue": "__init__() missing 1 required positional argument: 'experiment_name'",
     "output_type": "error",
     "traceback": [
      "\u001b[0;31m---------------------------------------------------------------------------\u001b[0m",
      "\u001b[0;31mTypeError\u001b[0m                                 Traceback (most recent call last)",
      "\u001b[0;32m<ipython-input-10-90d2fbdca3cd>\u001b[0m in \u001b[0;36m<module>\u001b[0;34m\u001b[0m\n\u001b[0;32m----> 1\u001b[0;31m exp = dex.Experiment(\n\u001b[0m\u001b[1;32m      2\u001b[0m     \u001b[0mstart\u001b[0m \u001b[0;34m=\u001b[0m \u001b[0;34m'2021-01-01'\u001b[0m\u001b[0;34m,\u001b[0m\u001b[0;34m\u001b[0m\u001b[0;34m\u001b[0m\u001b[0m\n\u001b[1;32m      3\u001b[0m     \u001b[0mend\u001b[0m \u001b[0;34m=\u001b[0m \u001b[0;34m'2021-01-14'\u001b[0m\u001b[0;34m,\u001b[0m\u001b[0;34m\u001b[0m\u001b[0;34m\u001b[0m\u001b[0m\n\u001b[1;32m      4\u001b[0m     \u001b[0mexpected_delta\u001b[0m \u001b[0;34m=\u001b[0m \u001b[0;36m.3\u001b[0m\u001b[0;34m,\u001b[0m\u001b[0;34m\u001b[0m\u001b[0;34m\u001b[0m\u001b[0m\n\u001b[1;32m      5\u001b[0m     \u001b[0mtreatment_proportion\u001b[0m \u001b[0;34m=\u001b[0m \u001b[0;36m.5\u001b[0m\u001b[0;34m,\u001b[0m\u001b[0;34m\u001b[0m\u001b[0;34m\u001b[0m\u001b[0m\n",
      "\u001b[0;31mTypeError\u001b[0m: __init__() missing 1 required positional argument: 'experiment_name'"
     ]
    }
   ],
   "source": [
    "exp = dex.Experiment(\n",
    "    start = '2021-01-01',\n",
    "    end = '2021-01-14',\n",
    "    expected_delta = .3,\n",
    "    treatment_proportion = .5,\n",
    "    roll_out_percent=.1\n",
    ")"
   ]
  },
  {
   "cell_type": "code",
   "execution_count": 63,
   "metadata": {},
   "outputs": [],
   "source": [
    "exp.data = exp_df"
   ]
  },
  {
   "cell_type": "markdown",
   "metadata": {},
   "source": [
    "### Read-out data and set working dataset"
   ]
  },
  {
   "cell_type": "code",
   "execution_count": 64,
   "metadata": {},
   "outputs": [
    {
     "ename": "TypeError",
     "evalue": "check_groups_balance() missing 1 required positional argument: 'data'",
     "output_type": "error",
     "traceback": [
      "\u001b[0;31m---------------------------------------------------------------------------\u001b[0m",
      "\u001b[0;31mTypeError\u001b[0m                                 Traceback (most recent call last)",
      "\u001b[0;32m<ipython-input-64-174ba346ce49>\u001b[0m in \u001b[0;36m<module>\u001b[0;34m\u001b[0m\n\u001b[0;32m----> 1\u001b[0;31m \u001b[0mexp\u001b[0m\u001b[0;34m.\u001b[0m\u001b[0mcheck_groups_balance\u001b[0m\u001b[0;34m(\u001b[0m\u001b[0;34m)\u001b[0m\u001b[0;34m\u001b[0m\u001b[0;34m\u001b[0m\u001b[0m\n\u001b[0m",
      "\u001b[0;31mTypeError\u001b[0m: check_groups_balance() missing 1 required positional argument: 'data'"
     ]
    }
   ],
   "source": [
    "exp.check_groups_balance()"
   ]
  },
  {
   "cell_type": "code",
   "execution_count": 71,
   "metadata": {},
   "outputs": [
    {
     "name": "stdout",
     "output_type": "stream",
     "text": [
      "\n",
      "    Cross-over check: PASSED\n",
      "    All experiment units were exposed to a single variant\n",
      "            \n"
     ]
    }
   ],
   "source": [
    "exp.check_crossover('userid')"
   ]
  },
  {
   "cell_type": "code",
   "execution_count": 73,
   "metadata": {},
   "outputs": [
    {
     "name": "stdout",
     "output_type": "stream",
     "text": [
      "\n"
     ]
    }
   ],
   "source": [
    "exp.handle_crossover()"
   ]
  },
  {
   "cell_type": "code",
   "execution_count": 74,
   "metadata": {
    "tags": []
   },
   "outputs": [
    {
     "name": "stdout",
     "output_type": "stream",
     "text": [
      "All success and learning metrics are used per default.\n"
     ]
    }
   ],
   "source": [
    "exp.handle_outliers('winsorize', exp.data.leads > 1)"
   ]
  },
  {
   "cell_type": "code",
   "execution_count": 15,
   "metadata": {},
   "outputs": [
    {
     "ename": "NameError",
     "evalue": "name 'Experiment' is not defined",
     "output_type": "error",
     "traceback": [
      "\u001b[0;31m---------------------------------------------------------------------------\u001b[0m",
      "\u001b[0;31mNameError\u001b[0m                                 Traceback (most recent call last)",
      "\u001b[0;32m<ipython-input-15-d6b04a52ae50>\u001b[0m in \u001b[0;36m<module>\u001b[0;34m\u001b[0m\n\u001b[0;32m----> 1\u001b[0;31m exp = Experiment(\n\u001b[0m\u001b[1;32m      2\u001b[0m     \u001b[0mdata\u001b[0m \u001b[0;34m=\u001b[0m \u001b[0mdata\u001b[0m\u001b[0;34m,\u001b[0m\u001b[0;34m\u001b[0m\u001b[0;34m\u001b[0m\u001b[0m\n\u001b[1;32m      3\u001b[0m     \u001b[0mstart\u001b[0m \u001b[0;34m=\u001b[0m \u001b[0;34m'2021-01-01'\u001b[0m\u001b[0;34m,\u001b[0m\u001b[0;34m\u001b[0m\u001b[0;34m\u001b[0m\u001b[0m\n\u001b[1;32m      4\u001b[0m     \u001b[0mend\u001b[0m \u001b[0;34m=\u001b[0m \u001b[0;34m'2021-01-14'\u001b[0m\u001b[0;34m,\u001b[0m\u001b[0;34m\u001b[0m\u001b[0;34m\u001b[0m\u001b[0m\n\u001b[1;32m      5\u001b[0m     \u001b[0mexpected_delta\u001b[0m \u001b[0;34m=\u001b[0m \u001b[0;36m.3\u001b[0m\u001b[0;34m,\u001b[0m\u001b[0;34m\u001b[0m\u001b[0;34m\u001b[0m\u001b[0m\n",
      "\u001b[0;31mNameError\u001b[0m: name 'Experiment' is not defined"
     ]
    }
   ],
   "source": [
    "exp = Experiment(\n",
    "    data = data,\n",
    "    start = '2021-01-01',\n",
    "    end = '2021-01-14',\n",
    "    expected_delta = .3,\n",
    "    treatment_proportion = .5,\n",
    "    roll_out_percent=.1\n",
    ")"
   ]
  },
  {
   "cell_type": "code",
   "execution_count": 1,
   "metadata": {},
   "outputs": [],
   "source": [
    "d = {'a':('l', 'k')}"
   ]
  },
  {
   "cell_type": "code",
   "execution_count": 16,
   "metadata": {},
   "outputs": [],
   "source": [
    "status_dict = {\n",
    "            'group_balance': {\n",
    "                'checked': False,\n",
    "                'passed': None,\n",
    "                'handled': False,\n",
    "                'diagnostics': {\n",
    "                    'observed_prop': None,\n",
    "                    'expected_prop': None,\n",
    "                    'test_results': {'z-stat': None, 'p-value': None}\n",
    "                },\n",
    "            }\n",
    "}"
   ]
  },
  {
   "cell_type": "code",
   "execution_count": 15,
   "metadata": {},
   "outputs": [],
   "source": [
    "def print_status_message(status_dict, test):\n",
    "            status_dict = status_dict.get(test)\n",
    "            print(\"\"\"\n",
    "                Check: {test}\n",
    "                Passed: {status}\n",
    "                Handled: {handled}\n",
    "                Diagnostics:\n",
    "                    {diagnostics} \n",
    "                    \"\"\".format(\n",
    "                test=test,\n",
    "                status=status_dict.get('passed'),\n",
    "                handled=status_dict.get('handled'),\n",
    "                diagnostics=status_dict.get('diagnostics')\n",
    "            )\n",
    "            )"
   ]
  },
  {
   "cell_type": "code",
   "execution_count": 17,
   "metadata": {},
   "outputs": [
    {
     "name": "stdout",
     "output_type": "stream",
     "text": [
      "\n",
      "                Check: group_balance\n",
      "                Passed: None\n",
      "                Handled: False\n",
      "                Diagnostics:\n",
      "                    {'observed_prop': None, 'expected_prop': None, 'test_results': {'z-stat': None, 'p-value': None}} \n",
      "                    \n"
     ]
    }
   ],
   "source": [
    "print_status_message(status_dict, 'group_balance')"
   ]
  },
  {
   "cell_type": "code",
   "execution_count": 20,
   "metadata": {},
   "outputs": [
    {
     "ename": "TypeError",
     "evalue": "'NoneType' object is not iterable",
     "output_type": "error",
     "traceback": [
      "\u001b[0;31m---------------------------------------------------------------------------\u001b[0m",
      "\u001b[0;31mTypeError\u001b[0m                                 Traceback (most recent call last)",
      "\u001b[0;32m<ipython-input-20-6bc04debf7d1>\u001b[0m in \u001b[0;36m<module>\u001b[0;34m\u001b[0m\n\u001b[0;32m----> 1\u001b[0;31m \u001b[0;34m[\u001b[0m\u001b[0;34m'{k}:{v}\\n'\u001b[0m \u001b[0;32mfor\u001b[0m \u001b[0mk\u001b[0m\u001b[0;34m,\u001b[0m\u001b[0mv\u001b[0m \u001b[0;32min\u001b[0m \u001b[0mstatus_dict\u001b[0m\u001b[0;34m.\u001b[0m\u001b[0mget\u001b[0m\u001b[0;34m(\u001b[0m\u001b[0;34m'diagnostics'\u001b[0m\u001b[0;34m)\u001b[0m\u001b[0;34m]\u001b[0m\u001b[0;34m\u001b[0m\u001b[0;34m\u001b[0m\u001b[0m\n\u001b[0m",
      "\u001b[0;31mTypeError\u001b[0m: 'NoneType' object is not iterable"
     ]
    }
   ],
   "source": [
    "['{k}:{v}\\n' for k,v in status_dict.get('diagnostics')]"
   ]
  },
  {
   "cell_type": "code",
   "execution_count": 21,
   "metadata": {},
   "outputs": [],
   "source": [
    "status_dict.get('diagnostics')"
   ]
  },
  {
   "cell_type": "code",
   "execution_count": 29,
   "metadata": {},
   "outputs": [],
   "source": [
    "status_dict.get('checked')"
   ]
  },
  {
   "cell_type": "code",
   "execution_count": 41,
   "metadata": {},
   "outputs": [
    {
     "data": {
      "text/plain": [
       "{'checked: False',\n",
       " \"diagnostics: {'observed_prop': None, 'expected_prop': None, 'test_results': {'z-stat': None, 'p-value': None}}\",\n",
       " 'handled: False',\n",
       " 'passed: None'}"
      ]
     },
     "execution_count": 41,
     "metadata": {},
     "output_type": "execute_result"
    }
   ],
   "source": [
    "{f'{k}: {v}' for k,v in status_dict.get('group_balance').items()}"
   ]
  },
  {
   "cell_type": "code",
   "execution_count": 67,
   "metadata": {},
   "outputs": [
    {
     "name": "stdout",
     "output_type": "stream",
     "text": [
      "\tFalse\n",
      "\tNone\n",
      "\tFalse\n",
      "diagnostics: None\n",
      "diagnostics: None\n",
      "diagnostics: {'z-stat': None, 'p-value': None}\n"
     ]
    }
   ],
   "source": [
    "pretty(status_dict.get('group_balance'))"
   ]
  },
  {
   "cell_type": "code",
   "execution_count": 77,
   "metadata": {},
   "outputs": [],
   "source": []
  },
  {
   "cell_type": "code",
   "execution_count": 78,
   "metadata": {},
   "outputs": [
    {
     "name": "stdout",
     "output_type": "stream",
     "text": [
      " checked : False\n",
      " passed : None\n",
      " handled : False\n",
      " diagnostics :\n",
      "     observed_prop : None\n",
      "     expected_prop : None\n",
      "     test_results :\n",
      "         z-stat : None\n",
      "         p-value : None\n",
      "    \n",
      "\n",
      " checked : False\n",
      " passed : None\n",
      " handled : False\n",
      " diagnostics :\n",
      "     observed_prop : None\n",
      "     expected_prop : None\n",
      "     test_results :\n",
      "         z-stat : None\n",
      "         p-value : None\n",
      "    \n",
      "\n"
     ]
    }
   ],
   "source": []
  },
  {
   "cell_type": "code",
   "execution_count": 169,
   "metadata": {},
   "outputs": [],
   "source": [
    "from scipy.stats import chisquare\n",
    "\n",
    "e = np.array([500, 500, 500, 500, 500])\n",
    "o = np.array([200, 600, 400, 470, 830])\n",
    "\n"
   ]
  },
  {
   "cell_type": "code",
   "execution_count": 175,
   "metadata": {},
   "outputs": [
    {
     "data": {
      "text/plain": [
       "scipy.stats.stats.Power_divergenceResult"
      ]
     },
     "execution_count": 175,
     "metadata": {},
     "output_type": "execute_result"
    }
   ],
   "source": [
    "type(chisquare(o,e))"
   ]
  },
  {
   "cell_type": "code",
   "execution_count": 160,
   "metadata": {},
   "outputs": [
    {
     "data": {
      "text/plain": [
       "(-12515.03241651319,\n",
       " 1.0,\n",
       " (array([[ 200, 2300],\n",
       "         [ 600, 1900],\n",
       "         [ 400, 2100],\n",
       "         [ 470, 2030],\n",
       "         [ 830, 1670]]),\n",
       "  array([[ 1250000, -1247500],\n",
       "         [ 1250000, -1247500],\n",
       "         [ 1250000, -1247500],\n",
       "         [ 1250000, -1247500],\n",
       "         [ 1250000, -1247500]])))"
      ]
     },
     "execution_count": 160,
     "metadata": {},
     "output_type": "execute_result"
    }
   ],
   "source": [
    "res"
   ]
  },
  {
   "cell_type": "code",
   "execution_count": 164,
   "metadata": {},
   "outputs": [],
   "source": [
    "nom=(o-e)**2\n",
    "denom=nom/e.sum()"
   ]
  },
  {
   "cell_type": "code",
   "execution_count": 167,
   "metadata": {},
   "outputs": [],
   "source": [
    "denom.sum()\n",
    "dof=len(e)-1"
   ]
  },
  {
   "cell_type": "code",
   "execution_count": 168,
   "metadata": {},
   "outputs": [
    {
     "data": {
      "text/plain": [
       "8.792"
      ]
     },
     "execution_count": 168,
     "metadata": {},
     "output_type": "execute_result"
    }
   ],
   "source": [
    "\n",
    "denom.sum()"
   ]
  },
  {
   "cell_type": "code",
   "execution_count": 16,
   "metadata": {},
   "outputs": [],
   "source": [
    "import pandas as pd\n",
    "df = pd.read_csv('dummy_df.csv')"
   ]
  },
  {
   "cell_type": "code",
   "execution_count": 21,
   "metadata": {},
   "outputs": [],
   "source": [
    "from numpy import log\n",
    "\n",
    "def custom_transform(df, metrics, transform_func):\n",
    "    for metric in metrics:\n",
    "        df[metric] = transform_func(df[metric])"
   ]
  },
  {
   "cell_type": "code",
   "execution_count": 22,
   "metadata": {},
   "outputs": [
    {
     "name": "stderr",
     "output_type": "stream",
     "text": [
      "/Library/Frameworks/Python.framework/Versions/3.8/lib/python3.8/site-packages/pandas/core/series.py:726: RuntimeWarning: invalid value encountered in log\n",
      "  result = getattr(ufunc, method)(*inputs, **kwargs)\n"
     ]
    }
   ],
   "source": [
    "custom_transform(df, ['leads'], log)"
   ]
  },
  {
   "cell_type": "code",
   "execution_count": 37,
   "metadata": {},
   "outputs": [
    {
     "data": {
      "text/plain": [
       "<function __main__.custom_transform(df, metrics, transform_func)>"
      ]
     },
     "execution_count": 37,
     "metadata": {},
     "output_type": "execute_result"
    }
   ],
   "source": []
  },
  {
   "cell_type": "code",
   "execution_count": 2,
   "metadata": {},
   "outputs": [],
   "source": [
    "import pandas"
   ]
  },
  {
   "cell_type": "code",
   "execution_count": 3,
   "metadata": {},
   "outputs": [
    {
     "data": {
      "text/plain": [
       "'/Library/Frameworks/Python.framework/Versions/3.8/lib/python3.8/site-packages/pandas/__init__.py'"
      ]
     },
     "execution_count": 3,
     "metadata": {},
     "output_type": "execute_result"
    }
   ],
   "source": [
    "pandas.__file__"
   ]
  },
  {
   "cell_type": "code",
   "execution_count": 4,
   "metadata": {},
   "outputs": [
    {
     "name": "stdout",
     "output_type": "stream",
     "text": [
      "Requirement already satisfied: pingouin in /Users/aalvarezperez/Documents/eBay/Horizon/projects/experiment_class/conda-env/lib/python3.9/site-packages (0.5.0)\n",
      "Requirement already satisfied: matplotlib>=3.0.2 in /Users/aalvarezperez/Documents/eBay/Horizon/projects/experiment_class/conda-env/lib/python3.9/site-packages (from pingouin) (3.5.0)\n",
      "Requirement already satisfied: outdated in /Users/aalvarezperez/Documents/eBay/Horizon/projects/experiment_class/conda-env/lib/python3.9/site-packages (from pingouin) (0.2.1)\n",
      "Requirement already satisfied: tabulate in /Users/aalvarezperez/Documents/eBay/Horizon/projects/experiment_class/conda-env/lib/python3.9/site-packages (from pingouin) (0.8.9)\n",
      "Requirement already satisfied: numpy>=1.19 in /Users/aalvarezperez/Documents/eBay/Horizon/projects/experiment_class/conda-env/lib/python3.9/site-packages (from pingouin) (1.21.2)\n",
      "Requirement already satisfied: seaborn>=0.9.0 in /Users/aalvarezperez/Documents/eBay/Horizon/projects/experiment_class/conda-env/lib/python3.9/site-packages (from pingouin) (0.11.2)\n",
      "Requirement already satisfied: scikit-learn in /Users/aalvarezperez/Documents/eBay/Horizon/projects/experiment_class/conda-env/lib/python3.9/site-packages (from pingouin) (1.0.2)\n",
      "Requirement already satisfied: statsmodels>=0.12.0 in /Users/aalvarezperez/Documents/eBay/Horizon/projects/experiment_class/conda-env/lib/python3.9/site-packages (from pingouin) (0.13.0)\n",
      "Requirement already satisfied: scipy>=1.7 in /Users/aalvarezperez/Documents/eBay/Horizon/projects/experiment_class/conda-env/lib/python3.9/site-packages (from pingouin) (1.7.1)\n",
      "Requirement already satisfied: pandas-flavor>=0.2.0 in /Users/aalvarezperez/Documents/eBay/Horizon/projects/experiment_class/conda-env/lib/python3.9/site-packages (from pingouin) (0.2.0)\n",
      "Requirement already satisfied: pandas>=1.0 in /Users/aalvarezperez/Documents/eBay/Horizon/projects/experiment_class/conda-env/lib/python3.9/site-packages (from pingouin) (1.3.5)\n",
      "Requirement already satisfied: fonttools>=4.22.0 in /Users/aalvarezperez/Documents/eBay/Horizon/projects/experiment_class/conda-env/lib/python3.9/site-packages (from matplotlib>=3.0.2->pingouin) (4.25.0)\n",
      "Requirement already satisfied: pillow>=6.2.0 in /Users/aalvarezperez/Documents/eBay/Horizon/projects/experiment_class/conda-env/lib/python3.9/site-packages (from matplotlib>=3.0.2->pingouin) (8.4.0)\n",
      "Requirement already satisfied: cycler>=0.10 in /Users/aalvarezperez/Documents/eBay/Horizon/projects/experiment_class/conda-env/lib/python3.9/site-packages (from matplotlib>=3.0.2->pingouin) (0.11.0)\n",
      "Requirement already satisfied: python-dateutil>=2.7 in /Users/aalvarezperez/Documents/eBay/Horizon/projects/experiment_class/conda-env/lib/python3.9/site-packages (from matplotlib>=3.0.2->pingouin) (2.8.2)\n",
      "Requirement already satisfied: pyparsing>=2.2.1 in /Users/aalvarezperez/Documents/eBay/Horizon/projects/experiment_class/conda-env/lib/python3.9/site-packages (from matplotlib>=3.0.2->pingouin) (3.0.4)\n",
      "Requirement already satisfied: packaging>=20.0 in /Users/aalvarezperez/Documents/eBay/Horizon/projects/experiment_class/conda-env/lib/python3.9/site-packages (from matplotlib>=3.0.2->pingouin) (21.3)\n",
      "Requirement already satisfied: kiwisolver>=1.0.1 in /Users/aalvarezperez/Documents/eBay/Horizon/projects/experiment_class/conda-env/lib/python3.9/site-packages (from matplotlib>=3.0.2->pingouin) (1.3.1)\n",
      "Requirement already satisfied: pytz>=2017.3 in /Users/aalvarezperez/Documents/eBay/Horizon/projects/experiment_class/conda-env/lib/python3.9/site-packages (from pandas>=1.0->pingouin) (2021.3)\n",
      "Requirement already satisfied: xarray in /Users/aalvarezperez/Documents/eBay/Horizon/projects/experiment_class/conda-env/lib/python3.9/site-packages (from pandas-flavor>=0.2.0->pingouin) (0.20.2)\n",
      "Requirement already satisfied: six>=1.5 in /Users/aalvarezperez/Documents/eBay/Horizon/projects/experiment_class/conda-env/lib/python3.9/site-packages (from python-dateutil>=2.7->matplotlib>=3.0.2->pingouin) (1.16.0)\n",
      "Requirement already satisfied: patsy>=0.5.2 in /Users/aalvarezperez/Documents/eBay/Horizon/projects/experiment_class/conda-env/lib/python3.9/site-packages (from statsmodels>=0.12.0->pingouin) (0.5.2)\n",
      "Requirement already satisfied: requests in /Users/aalvarezperez/Documents/eBay/Horizon/projects/experiment_class/conda-env/lib/python3.9/site-packages (from outdated->pingouin) (2.27.1)\n",
      "Requirement already satisfied: littleutils in /Users/aalvarezperez/Documents/eBay/Horizon/projects/experiment_class/conda-env/lib/python3.9/site-packages (from outdated->pingouin) (0.2.2)\n",
      "Requirement already satisfied: urllib3<1.27,>=1.21.1 in /Users/aalvarezperez/Documents/eBay/Horizon/projects/experiment_class/conda-env/lib/python3.9/site-packages (from requests->outdated->pingouin) (1.26.8)\n",
      "Requirement already satisfied: idna<4,>=2.5 in /Users/aalvarezperez/Documents/eBay/Horizon/projects/experiment_class/conda-env/lib/python3.9/site-packages (from requests->outdated->pingouin) (3.3)\n",
      "Requirement already satisfied: charset-normalizer~=2.0.0 in /Users/aalvarezperez/Documents/eBay/Horizon/projects/experiment_class/conda-env/lib/python3.9/site-packages (from requests->outdated->pingouin) (2.0.10)\n",
      "Requirement already satisfied: certifi>=2017.4.17 in /Users/aalvarezperez/Documents/eBay/Horizon/projects/experiment_class/conda-env/lib/python3.9/site-packages (from requests->outdated->pingouin) (2021.10.8)\n",
      "Requirement already satisfied: threadpoolctl>=2.0.0 in /Users/aalvarezperez/Documents/eBay/Horizon/projects/experiment_class/conda-env/lib/python3.9/site-packages (from scikit-learn->pingouin) (3.0.0)\n",
      "Requirement already satisfied: joblib>=0.11 in /Users/aalvarezperez/Documents/eBay/Horizon/projects/experiment_class/conda-env/lib/python3.9/site-packages (from scikit-learn->pingouin) (1.1.0)\n"
     ]
    }
   ],
   "source": [
    "!pip install pingouin"
   ]
  },
  {
   "cell_type": "code",
   "execution_count": null,
   "metadata": {},
   "outputs": [],
   "source": []
  }
 ],
 "metadata": {
  "kernelspec": {
   "display_name": "Python 3",
   "language": "python",
   "name": "python3"
  },
  "language_info": {
   "codemirror_mode": {
    "name": "ipython",
    "version": 3
   },
   "file_extension": ".py",
   "mimetype": "text/x-python",
   "name": "python",
   "nbconvert_exporter": "python",
   "pygments_lexer": "ipython3",
   "version": "3.8.2"
  }
 },
 "nbformat": 4,
 "nbformat_minor": 4
}
